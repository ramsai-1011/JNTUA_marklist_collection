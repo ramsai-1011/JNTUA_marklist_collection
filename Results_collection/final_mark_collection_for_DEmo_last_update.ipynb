{
 "cells": [
  {
   "cell_type": "code",
   "execution_count": 27,
   "id": "aba6d0c4",
   "metadata": {},
   "outputs": [],
   "source": [
    "number_of_subjects=10\n",
    "file_name='king_ram'\n",
    "link=r\"https://jntuaresults.ac.in/view-results-56736583.html\"\n",
    "path_driver=r'C:\\\\Users\\\\konda\\\\Downloads\\\\chromedriver_win32\\\\chromedriver.exe'\n",
    "End_roll_number_for_le=60\n",
    "global over_all_cred\n",
    "\n",
    "over_all_cred=23"
   ]
  },
  {
   "cell_type": "code",
   "execution_count": 28,
   "id": "6b655bec",
   "metadata": {},
   "outputs": [],
   "source": [
    "col=[]#enter subject names\n",
    "roll_num=[\"18ak1a0471\",\"18ak1a0472\",\"18ak1a0473\",\"18ak1a0474\",\"18ak1a0477\",'18ak1a0499']#\n",
    "col=[\"Roll Number\",\"Name\"]\n",
    "for i in range(1,number_of_subjects+1):\n",
    "    n=\"SUBJECT\"+str(f'{i}')\n",
    "    n2=\"SUBJECT_cred\"+str(f'{i}')\n",
    "    col.append(n)\n",
    "    col.append(n2)\n",
    "col.append(\"total\")\n",
    "col.append(\"Cred_sum\")\n",
    "col.append('Total pointer grader')"
   ]
  },
  {
   "cell_type": "code",
   "execution_count": 31,
   "id": "e2e14c53",
   "metadata": {},
   "outputs": [],
   "source": [
    "global roll_num\n",
    "roll_num=[]\n",
    "def get_roll(roll):\n",
    "    for i in range(10,100):\n",
    "        n=\"18ak1a04\"+f'{i}'\n",
    "        roll_num.append(n)\n",
    "        if i<=60:\n",
    "            n=\"19ak5a04\"+f'{i}'\n",
    "            roll_num.append(n)        \n",
    "    for i in range(1,10):\n",
    "        n=\"18ak1a040\"+f'{i}'\n",
    "        roll_num.append(n)\n",
    "        n=\"19ak5a040\"+f'{i}'\n",
    "        roll_num.append(n)\n",
    "    for i in range(0,10):\n",
    "        n=\"18ak1a04a\"+f'{i}'\n",
    "        roll_num.append(n)\n",
    "        n=\"18ak1a04b\"+f'{i}'\n",
    "        roll_num.append(n)\n",
    "get_roll(roll_num)"
   ]
  },
  {
   "cell_type": "code",
   "execution_count": 29,
   "id": "c856f916",
   "metadata": {},
   "outputs": [],
   "source": [
    "def pointers_for_marks(marks):\n",
    "    if marks>=90:\n",
    "        return 10\n",
    "    elif marks>=80 and marks<=89:\n",
    "        return 9\n",
    "    elif marks>=70 and marks<=79:\n",
    "        return 8\n",
    "    elif marks>=60 and marks<=69:\n",
    "        return 7\n",
    "    elif marks>=50 and marks<=59:\n",
    "        return 6\n",
    "    elif marks>=40 and marks<=49:\n",
    "        return 4\n",
    "    else:\n",
    "        return 0\n",
    "        "
   ]
  },
  {
   "cell_type": "code",
   "execution_count": 32,
   "id": "01133409",
   "metadata": {},
   "outputs": [],
   "source": [
    "import pandas as pd\n",
    "def get_total_sum(k):\n",
    "    cred_sum=0\n",
    "    crd_pointer=0\n",
    "    import re\n",
    "    data=[]\n",
    "    x=re.search('[0-9][0-9][a-zA-Z][a-zA-Z][0-9][a-zA-Z][0-9][0-9][0-9a-zA-Z][0-9]',k)\n",
    "    if x is None:\n",
    "        data.append(\"None\")\n",
    "    else:\n",
    "        data.append(x.group())\n",
    "    k=k.split(\"\\n\")\n",
    "    x=re.search('Student name:[A-Z\\s]{5,40}',k[0])\n",
    "    if x is None:\n",
    "        return data\n",
    "    else:\n",
    "        m=x.group()\n",
    "        data.append(m[13:].strip())\n",
    "    total=0\n",
    "    for i in k[2:]:\n",
    "        rs=i.split()\n",
    "        new=[rs[-4]]\n",
    "        total=total+int(rs[-4])#get the total score\n",
    "        crd_pointer=crd_pointer + (int(rs[-2])*pointers_for_marks(int(rs[-4])))\n",
    "        cred_sum=cred_sum+int(rs[-2])\n",
    "        for i in new:\n",
    "            data.append(i)\n",
    "            data.append(rs[-2])#Get the cred for subject            \n",
    "    data.append(total)\n",
    "    data.append(cred_sum)\n",
    "    data.append(crd_pointer/over_all_cred)\n",
    "    return data\n",
    "from selenium import webdriver\n",
    "from selenium.webdriver.common.keys import Keys\n",
    "import time\n",
    "dac=[]\n",
    "driver = webdriver.Chrome(path_driver)\n",
    "driver.get(link)\n",
    "try:\n",
    "    for i in roll_num:\n",
    "        elem = driver.find_element_by_name(\"ht\")\n",
    "        elem.clear()\n",
    "        elem.send_keys(i)\n",
    "        driver.find_element_by_css_selector('.ci').click()\n",
    "        time.sleep(1)\n",
    "        arrow=driver.find_element_by_id(\"rs\")\n",
    "        k=arrow.text\n",
    "        dac.append(get_total_sum(k))\n",
    "except:\n",
    "    \n",
    "    new_data=pd.DataFrame(dac,columns=col)\n",
    "    new_data.to_csv(file_name+\".csv\")\n",
    "finally:\n",
    "    \n",
    "    driver.quit()\n",
    "    new_data=pd.DataFrame(dac,columns=col)\n",
    "    new_data.to_csv(file_name+\".csv\")   \n"
   ]
  },
  {
   "cell_type": "code",
   "execution_count": 27,
   "id": "bb2fb012",
   "metadata": {},
   "outputs": [],
   "source": []
  },
  {
   "cell_type": "code",
   "execution_count": 28,
   "id": "62805d56",
   "metadata": {},
   "outputs": [
    {
     "name": "stdout",
     "output_type": "stream",
     "text": [
      "7\n"
     ]
    }
   ],
   "source": [
    "print(pointers_for_marks(68))"
   ]
  },
  {
   "cell_type": "code",
   "execution_count": null,
   "id": "c9102e75",
   "metadata": {},
   "outputs": [],
   "source": []
  }
 ],
 "metadata": {
  "kernelspec": {
   "display_name": "Python 3",
   "language": "python",
   "name": "python3"
  },
  "language_info": {
   "codemirror_mode": {
    "name": "ipython",
    "version": 3
   },
   "file_extension": ".py",
   "mimetype": "text/x-python",
   "name": "python",
   "nbconvert_exporter": "python",
   "pygments_lexer": "ipython3",
   "version": "3.9.6"
  }
 },
 "nbformat": 4,
 "nbformat_minor": 5
}
