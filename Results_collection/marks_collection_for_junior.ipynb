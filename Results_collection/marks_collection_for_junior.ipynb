{
 "cells": [
  {
   "cell_type": "code",
   "execution_count": 1,
   "id": "d34b5efe",
   "metadata": {},
   "outputs": [],
   "source": [
    "from selenium import webdriver\n",
    "from selenium.webdriver.common.keys import Keys\n",
    "import time\n",
    "import pandas as pd"
   ]
  },
  {
   "cell_type": "code",
   "execution_count": 2,
   "id": "dfebe45e",
   "metadata": {},
   "outputs": [],
   "source": [
    "path_driver=r'C:\\\\Users\\\\konda\\\\Downloads\\\\chromedriver_win32\\\\chromedriver.exe'\n",
    "link=r\"https://examinations.aits-tpt.edu.in\\\\\"\n"
   ]
  },
  {
   "cell_type": "code",
   "execution_count": 3,
   "id": "cb2b93a6",
   "metadata": {},
   "outputs": [],
   "source": [
    "i='20AK1A0112'\n",
    "a='656244374040'\n",
    "\n",
    "\n",
    "def get_total_data(roll_number,Adhar_number):#Takes Roll_knumber and aadhar Number to get marks Name CGPA SGPA\n",
    "    driver = webdriver.Chrome(path_driver)\n",
    "    driver.get(link)\n",
    "    driver.find_element_by_link_text(\"B.TECH I YEAR II SEMESTER REGULAR EXAMINATIONS,OCTOBER2021\").click()\n",
    "    elem = driver.find_element_by_name(\"txtHtno\")\n",
    "    elem.clear()\n",
    "    elem.send_keys(i)\n",
    "    elem2 = driver.find_element_by_name(\"txtAadhar\")\n",
    "    elem2.clear()\n",
    "    elem2.send_keys(a)\n",
    "    driver.find_element_by_name(\"imgSearch\").click()\n",
    "    time.sleep(1)\n",
    "    Name=driver.find_element_by_id(\"lblName\")\n",
    "    Name=Name.text\n",
    "    #print(Name)\n",
    "    Total_fetch_data=driver.find_element_by_id(\"panel1\")\n",
    "    Total_fetch_data=Total_fetch_data.text\n",
    "    #print(Total_fetch_data)\n",
    "    SGPA=driver.find_element_by_id(\"lblSGPA\")\n",
    "    SGPA=SGPA.text\n",
    "   # print(SGPA)\n",
    "    CGPA=driver.find_element_by_id(\"lblCGPA\")\n",
    "    CGPA=CGPA.text\n",
    "    #print(CGPA)\n",
    "    driver.quit()\n",
    "    return Name,Total_fetch_data,SGPA,CGPA\n",
    "\n",
    "\n",
    "\n"
   ]
  },
  {
   "cell_type": "code",
   "execution_count": 14,
   "id": "829bcadf",
   "metadata": {},
   "outputs": [],
   "source": [
    "Name,Total_detch_data,SGPA,CGPA=get_total_data(i,a)\n"
   ]
  },
  {
   "cell_type": "code",
   "execution_count": 4,
   "id": "1d2a22a0",
   "metadata": {},
   "outputs": [
    {
     "name": "stdout",
     "output_type": "stream",
     "text": [
      "NEELAKANTAM DINESH\n",
      "<class 'str'>\n",
      "NEELAKANTAM DINESH\n",
      "<class 'str'>\n",
      "NEELAKANTAM DINESH\n",
      "<class 'str'>\n"
     ]
    }
   ],
   "source": [
    "df=pd.read_excel('Students_data_fetch.xlsx')\n",
    "i='20AK1A0112'\n",
    "a='656244374040'\n",
    "i2='20AK1A0'\n",
    "a2='65624430'\n",
    "l1=[i,i2,'0000000']\n",
    "l2=[a,a2,'1111111']\n",
    "\n",
    "for k in range(3):\n",
    "    Name,Total_fetch_data,SGPA,CGPA=get_total_data(l1[2],l2[2])\n",
    "    print(Name)\n",
    "    if len(Name)==0:\n",
    "        continue\n",
    "    print(type(Total_fetch_data))\n",
    "    li=Total_fetch_data.split('\\n')"
   ]
  },
  {
   "cell_type": "code",
   "execution_count": 106,
   "id": "70257f26",
   "metadata": {},
   "outputs": [
    {
     "name": "stdout",
     "output_type": "stream",
     "text": [
      "['Sno SubCode Subject Name Int Ext Total Final Grade Credits Status', '1 20ABS9906 Differential Equations and Vector Calculus 12 9 21 F 0.00 FAIL', '2 20ABS9903 Engineering Physics 12 30 42 E 3.00 PASS', '3 20AES0202 Basics of Electrical and Electronics Engineering 18 16 34 F 0.00 FAIL', '4 20AES0509 Basics of Python Programming 25 25 50 D 3.00 PASS', '5 20AES0301 Engineering Graphics 15 40 55 D 3.00 PASS', '6 20AMC9902 Constitution of India 17 0 17 D 0.00 PASS', '7 20AES0204 Basics of Electrical and Electronics Engineering_Lab 27 43 70 B 1.50 PASS', '8 20ABS9908 Engineering Physics_Lab 28 42 70 B 1.50 PASS', '9 20AES0510 Basics of Python Programming_Lab 28 40 68 C 1.50 PASS']\n"
     ]
    }
   ],
   "source": [
    "print(li)"
   ]
  },
  {
   "cell_type": "code",
   "execution_count": 5,
   "id": "1cfd6d59",
   "metadata": {},
   "outputs": [],
   "source": [
    "data_frame=pd.DataFrame(columns=['Roll_number','Subject 1','Subject 2','3','4','5','6','7','8','9'])\n",
    "def data_processing(Roll_number,li,SGPA,CGPA):#take ROll_number and list of data sGPA, CGPA to return marks\n",
    "    new_list=[Roll_number]\n",
    "    for i in range(1,len(li)):\n",
    "        sub=li[i].split()\n",
    "        new_list.append(sub[-4])\n",
    "        #new_list[0]=Roll_number\n",
    "    new_list.append(SGPA)\n",
    "    new_list.append(CGPA)\n",
    "    return new_list"
   ]
  },
  {
   "cell_type": "code",
   "execution_count": 6,
   "id": "508cf1c3",
   "metadata": {},
   "outputs": [
    {
     "name": "stdout",
     "output_type": "stream",
     "text": [
      "['NEELAKANTAM DINESH', '21', '42', '34', '50', '55', '17', '70', '70', '68', '4.23', '5.27']\n"
     ]
    }
   ],
   "source": [
    "print(data_processing(Name,li,SGPA,CGPA))\n"
   ]
  },
  {
   "cell_type": "code",
   "execution_count": null,
   "id": "97bb3f37",
   "metadata": {},
   "outputs": [],
   "source": []
  },
  {
   "cell_type": "code",
   "execution_count": null,
   "id": "dd4c8623",
   "metadata": {},
   "outputs": [],
   "source": []
  }
 ],
 "metadata": {
  "kernelspec": {
   "display_name": "Python 3",
   "language": "python",
   "name": "python3"
  },
  "language_info": {
   "codemirror_mode": {
    "name": "ipython",
    "version": 3
   },
   "file_extension": ".py",
   "mimetype": "text/x-python",
   "name": "python",
   "nbconvert_exporter": "python",
   "pygments_lexer": "ipython3",
   "version": "3.9.6"
  }
 },
 "nbformat": 4,
 "nbformat_minor": 5
}
